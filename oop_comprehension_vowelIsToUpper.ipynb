{
 "cells": [
  {
   "cell_type": "markdown",
   "id": "d8753ad6-909c-424f-ad2d-5d5686500eff",
   "metadata": {},
   "source": [
    "## Lab exercise 3\n",
    "### Provide a list comprehension that implementation for a function called vowelsToUpper with the following signature:\n",
    "\n",
    "method name : vowelsToUpper\n",
    "\n",
    "input argument : String \n",
    "\n",
    "return argument : String\n",
    "\n",
    "vowelsToUpper must return a version of its String argument with all its vowels changed to their uppercase forms. Nonvowel characters stay as is.\n",
    "\n",
    "### Sample Calls\n",
    "\n",
    "vowelsToUpper \"\" == \"\"\n",
    "\n",
    "vowelsToUpper \"Hello, world!\" == \"HEllO, wOrld!\"\n",
    "\n",
    "vowelsToUpper \"hello hi bye\" == \"hEllO hI byE\""
   ]
  },
  {
   "cell_type": "code",
   "execution_count": 2,
   "id": "78670cf0-1717-4c84-ac5c-11a318cba080",
   "metadata": {},
   "outputs": [
    {
     "name": "stdin",
     "output_type": "stream",
     "text": [
      "Enter a string:  Hello World\n"
     ]
    },
    {
     "name": "stdout",
     "output_type": "stream",
     "text": [
      "vowelIsToUpper \"Hello World\" == \"HEllO WOrld\"\n"
     ]
    }
   ],
   "source": [
    "#solution here\n",
    "class vowels_To_Upper:\n",
    "    def __init__(self, user_input):\n",
    "        self.user_input = user_input\n",
    "\n",
    "    def vowelIsToUpper(self):\n",
    "        vowels = \"aeiouAEIOU\"\n",
    "        return ''.join([letter.upper() if letter in vowels else letter for letter in self.user_input])\n",
    "    \n",
    "if __name__ == \"__main__\":\n",
    "    user_input = input(\"Enter a string: \")\n",
    "    converter = vowels_To_Upper(user_input)\n",
    "    result = converter.vowelIsToUpper()\n",
    "    print(f'vowelIsToUpper \"{user_input}\" == \"{result}\"')"
   ]
  },
  {
   "cell_type": "code",
   "execution_count": null,
   "id": "fc4b1dac-f18d-49a9-91c5-8c5a0c8f60de",
   "metadata": {},
   "outputs": [],
   "source": []
  }
 ],
 "metadata": {
  "kernelspec": {
   "display_name": "Python 3 (ipykernel)",
   "language": "python",
   "name": "python3"
  },
  "language_info": {
   "codemirror_mode": {
    "name": "ipython",
    "version": 3
   },
   "file_extension": ".py",
   "mimetype": "text/x-python",
   "name": "python",
   "nbconvert_exporter": "python",
   "pygments_lexer": "ipython3",
   "version": "3.12.1"
  }
 },
 "nbformat": 4,
 "nbformat_minor": 5
}
